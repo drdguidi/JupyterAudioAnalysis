{
 "cells": [
  {
   "cell_type": "markdown",
   "metadata": {},
   "source": [
    "## CNN Model\n",
    "\n",
    "The model I’ve created is as follow:\n",
    "\n",
    "- The input is composed of 192 (frequency bins) x 9 (time frames) CQT images, representing 200ms of isolated acoustic guitar audio.\n",
    "- I’ve added three convolutional layers, each with a filter size of 3 x 3. The first convolutional layer has 32 filters, and the latter two each have 64. Each convolution is immediately followed by a Rectified Linear Unit (ReLU) activation.\n",
    "- The feature maps are then subsampled by a max pooling layer. Both the filter size and the stride for this operation are 2 x 2.\n",
    "- The structure is then flattened and followed by a dense layer of dimension 128, which includes a ReLU activation. This is connected to a second dense layer of dimension 126 with no activation.\n",
    "- Finally,  the vector is reshaped to 6 x 21, and a 6-dimensional softmax activation is applied. The output shape represents the 6 guitar strings and the 21 different classes related to each string"
   ]
  },
  {
   "cell_type": "code",
   "execution_count": 5,
   "metadata": {},
   "outputs": [],
   "source": [
    "import librosa as _librosa\n",
    "import librosa.display as _display\n",
    "from presets import Preset\n",
    "\n",
    "import numpy as np\n",
    "import matplotlib.pyplot as plt\n",
    "\n",
    "from os import listdir, mkdir, makedirs\n",
    "from os.path import isfile, join, isdir\n",
    "\n",
    "import pickle\n",
    "\n",
    "import jams\n",
    "\n",
    "import tensorflow as tf\n",
    "from tensorflow import keras\n",
    "from tensorflow.keras.layers import Conv2D, MaxPooling2D, Flatten, Dense, Dropout\n",
    "\n",
    "librosa = Preset(_librosa)\n",
    "librosa.display = _display\n",
    "\n",
    "duration= 0.2\n"
   ]
  },
  {
   "cell_type": "code",
   "execution_count": 6,
   "metadata": {},
   "outputs": [
    {
     "name": "stdout",
     "output_type": "stream",
     "text": [
      "Loading training data...\n",
      "Done\n"
     ]
    }
   ],
   "source": [
    "## Load image into memory\n",
    "\n",
    "print('Loading training data...')\n",
    "x_train = pickle.load(open('data/x_train.data', 'rb'))\n",
    "print('Done')\n"
   ]
  },
  {
   "cell_type": "code",
   "execution_count": 7,
   "metadata": {},
   "outputs": [
    {
     "name": "stdout",
     "output_type": "stream",
     "text": [
      "Loading training data...\n",
      "Done\n"
     ]
    }
   ],
   "source": [
    "# Loading groundtruth\n",
    "notesInString = [['e string OFF', 'E2', 'F2', 'F#2', 'G2', 'G#2', 'A2', 'A#2', 'B2', \n",
    "                  'C3', 'C#3', 'D3', 'D#3', 'E3', 'F3', 'F#3', 'G3', 'G#3', 'A3', 'A#3', 'B3'],\n",
    "                 ['A string OFF', 'A2', 'A#2', 'B2', 'C3', 'C#3', 'D3', 'D#3', 'E3', \n",
    "                  'F3', 'F#3', 'G3', 'G#3', 'A3', 'A#3', 'B3', 'C4', 'C#4', 'D4', 'D#4', 'E4'],\n",
    "                 ['D string OFF', 'D3', 'D#3', 'E3', 'F3', 'F#3', 'G3', 'G#3', 'A3', \n",
    "                  'A#3', 'B3', 'C4', 'C#4', 'D4', 'D#4', 'E4', 'F4', 'F#4', 'G4', 'G#4', 'A4'],\n",
    "                 ['G string OFF', 'G3', 'G#3', 'A3', 'A#3', 'B3', 'C4', 'C#4', 'D4', \n",
    "                  'D#4', 'E4', 'F4', 'F#4', 'G4', 'G#4', 'A4', 'A#4', 'B4', 'C5', 'C#5', 'D5'],\n",
    "                 ['B string OFF', 'B3', 'C4', 'C#4', 'D4', 'D#4', 'E4', 'F4', 'F#4', \n",
    "                  'G4', 'G#4', 'A4', 'A#4', 'B4', 'C5', 'C#5', 'D5', 'D#5', 'E5', 'F5', 'F#5'],\n",
    "                 ['E string OFF', 'E4', 'F4', 'F#4', 'G4', 'G#4', 'A4', 'A#4', 'B4', \n",
    "                  'C5', 'C#5', 'D5', 'D#5', 'E5', 'F5', 'F#5', 'G5', 'G#5', 'A5', 'A#5', 'B5']]\n",
    "\n",
    "print('Loading training data...')\n",
    "y_train = pickle.load(open('data/y_train.data', 'rb'))\n",
    "\n",
    "print('Done')\n",
    "\n",
    "\n"
   ]
  },
  {
   "cell_type": "code",
   "execution_count": 8,
   "metadata": {},
   "outputs": [
    {
     "name": "stdout",
     "output_type": "stream",
     "text": [
      "Creating one-hot-encoding array\n",
      "Done\n",
      "52598\n"
     ]
    }
   ],
   "source": [
    "print('Creating one-hot-encoding array')\n",
    "y_train_one_hot= []\n",
    "for i in range(len(y_train)):\n",
    "    y_train_one_hot.append(tf.keras.utils.to_categorical(y_train[i], num_classes=21))\n",
    "\n",
    "print('Done')\n",
    "print(len(x_train))\n",
    "\n",
    "\n"
   ]
  },
  {
   "cell_type": "code",
   "execution_count": 9,
   "metadata": {},
   "outputs": [
    {
     "name": "stdout",
     "output_type": "stream",
     "text": [
      "(52598, 21)\n",
      "(52598, 21)\n",
      "(52598, 21)\n",
      "(52598, 21)\n",
      "(52598, 21)\n",
      "(52598, 21)\n"
     ]
    }
   ],
   "source": [
    "for i in range(len(y_train)):    \n",
    "    print(y_train_one_hot[i].shape)\n",
    "    \n",
    "    "
   ]
  },
  {
   "cell_type": "code",
   "execution_count": 10,
   "metadata": {},
   "outputs": [
    {
     "name": "stdout",
     "output_type": "stream",
     "text": [
      "Input shape:  (84, 9, 1)\n"
     ]
    }
   ],
   "source": [
    "\n",
    "trainSplit = 46000\n",
    "testSplit = 46000\n",
    "\n",
    "X_train = x_train[0:trainSplit]\n",
    "\n",
    "e_train = y_train_one_hot[0][0:trainSplit]\n",
    "A_train = y_train_one_hot[1][0:trainSplit]\n",
    "D_train = y_train_one_hot[2][0:trainSplit]\n",
    "G_train = y_train_one_hot[3][0:trainSplit]\n",
    "B_train = y_train_one_hot[4][0:trainSplit]\n",
    "E_train = y_train_one_hot[5][0:trainSplit]\n",
    "\n",
    "X_test = x_train[testSplit:50000]\n",
    "\n",
    "e_test = y_train_one_hot[0][testSplit:50000]\n",
    "A_test = y_train_one_hot[1][testSplit:50000]\n",
    "D_test = y_train_one_hot[2][testSplit:50000]\n",
    "G_test = y_train_one_hot[3][testSplit:50000]\n",
    "B_test = y_train_one_hot[4][testSplit:50000]\n",
    "E_test = y_train_one_hot[5][testSplit:50000]\n",
    "\n",
    "batch_size = 32\n",
    "\n",
    "X_train = np.reshape(X_train, (len(X_train), 84, 9, 1))\n",
    "X_test = np.reshape(X_test, (len(X_test), 84, 9, 1))\n",
    "\n",
    "input_shape = X_train.shape[1:]\n",
    "print('Input shape: ', input_shape)\n",
    "# Optimizer\n",
    "epochs = 30\n",
    "learning_rate = 0.01 \n",
    "momentum = 0.8\n",
    "decay = learning_rate/epochs\n",
    "sgd = keras.optimizers.SGD(lr = learning_rate, momentum = momentum, decay = decay, nesterov = False)\n",
    "\n",
    "# Training (Functional Method)\n",
    "model_in = keras.Input(shape = input_shape)\n",
    "conv1 = Conv2D(32, kernel_size = (3, 3), activation = 'relu')(model_in)\n",
    "conv2 = Conv2D(64, kernel_size = (3, 3), activation = 'relu')(conv1)\n",
    "conv3 = Conv2D(64, kernel_size = (3, 3), activation = 'relu')(conv2)\n",
    "pool1 = MaxPooling2D(pool_size = (2, 2), strides = (2, 2))(conv3)\n",
    "flat = Flatten()(pool1)\n",
    "\n",
    "# Create fully connected model heads\n",
    "y1 = Dense(128, activation = 'relu')(flat)\n",
    "y1 = Dropout(0.5)(y1)\n",
    "y1 = Dense(126)(y1)\n",
    "y1 = Dropout(0.2)(y1)\n",
    "\n",
    "y2 = Dense(128, activation = 'relu')(flat)\n",
    "y2 = Dropout(0.5)(y2)\n",
    "y2 = Dense(126)(y2)\n",
    "y2 = Dropout(0.2)(y2)\n",
    "\n",
    "y3 = Dense(128, activation = 'relu')(flat)\n",
    "y3 = Dropout(0.5)(y3)\n",
    "y3 = Dense(126)(y3)\n",
    "y3 = Dropout(0.2)(y3)\n",
    "\n",
    "y4 = Dense(128, activation = 'relu')(flat)\n",
    "y4 = Dropout(0.5)(y4)\n",
    "y4 = Dense(126)(y4)\n",
    "y4 = Dropout(0.2)(y4)\n",
    "\n",
    "y5 = Dense(128, activation = 'relu')(flat)\n",
    "y5 = Dropout(0.5)(y5)\n",
    "y5 = Dense(126)(y5)\n",
    "y5 = Dropout(0.2)(y5)\n",
    "\n",
    "y6 = Dense(128, activation = 'relu')(flat)\n",
    "y6 = Dropout(0.5)(y6)\n",
    "y6 = Dense(126)(y6)\n",
    "y6 = Dropout(0.2)(y6)\n",
    "\n",
    "# Connect heads to final output layer\n",
    "out1 = Dense(21, activation = 'softmax', name = 'estring')(y1)\n",
    "out2 = Dense(21, activation = 'softmax', name = 'Astring')(y2)\n",
    "out3 = Dense(21, activation = 'softmax', name = 'Dstring')(y3)\n",
    "out4 = Dense(21, activation = 'softmax', name = 'Gstring')(y4)\n",
    "out5 = Dense(21, activation = 'softmax', name = 'Bstring')(y5)\n",
    "out6 = Dense(21, activation = 'softmax', name = 'Estring')(y6)\n",
    "\n",
    "# Create model\n",
    "model = keras.Model(inputs = model_in, outputs = [out1, out2, out3, out4, out5, out6]) #, out2, out3, out4, out5, out6])\n",
    "model.compile(optimizer = sgd, loss = ['categorical_crossentropy', 'categorical_crossentropy', \n",
    "                                       'categorical_crossentropy', 'categorical_crossentropy', \n",
    "                                       'categorical_crossentropy', 'categorical_crossentropy'],\n",
    "              metrics = ['accuracy'])\n",
    "\n"
   ]
  },
  {
   "cell_type": "code",
   "execution_count": 11,
   "metadata": {},
   "outputs": [
    {
     "name": "stdout",
     "output_type": "stream",
     "text": [
      "Epoch 1/30\n",
      "1438/1438 [==============================] - 44s 30ms/step - loss: 8.0961 - estring_loss: 0.8465 - Astring_loss: 1.1990 - Dstring_loss: 1.5190 - Gstring_loss: 1.6739 - Bstring_loss: 1.6177 - Estring_loss: 1.2400 - estring_accuracy: 0.8006 - Astring_accuracy: 0.6998 - Dstring_accuracy: 0.5793 - Gstring_accuracy: 0.5155 - Bstring_accuracy: 0.5524 - Estring_accuracy: 0.7068 - val_loss: 5.8155 - val_estring_loss: 0.5306 - val_Astring_loss: 0.8557 - val_Dstring_loss: 1.0567 - val_Gstring_loss: 1.0638 - val_Bstring_loss: 1.2185 - val_Estring_loss: 1.0901 - val_estring_accuracy: 0.8640 - val_Astring_accuracy: 0.7883 - val_Dstring_accuracy: 0.7092 - val_Gstring_accuracy: 0.6895 - val_Bstring_accuracy: 0.6572 - val_Estring_accuracy: 0.7460\n",
      "Epoch 2/30\n",
      "1438/1438 [==============================] - 47s 33ms/step - loss: 6.2727 - estring_loss: 0.6257 - Astring_loss: 0.9365 - Dstring_loss: 1.1701 - Gstring_loss: 1.2854 - Bstring_loss: 1.2526 - Estring_loss: 1.0024 - estring_accuracy: 0.8451 - Astring_accuracy: 0.7633 - Dstring_accuracy: 0.6656 - Gstring_accuracy: 0.6210 - Bstring_accuracy: 0.6354 - Estring_accuracy: 0.7371 - val_loss: 5.5912 - val_estring_loss: 0.4965 - val_Astring_loss: 0.8365 - val_Dstring_loss: 1.0002 - val_Gstring_loss: 1.0217 - val_Bstring_loss: 1.1809 - val_Estring_loss: 1.0554 - val_estring_accuracy: 0.8723 - val_Astring_accuracy: 0.7958 - val_Dstring_accuracy: 0.7272 - val_Gstring_accuracy: 0.6963 - val_Bstring_accuracy: 0.6578 - val_Estring_accuracy: 0.7538\n",
      "Epoch 3/30\n",
      "1438/1438 [==============================] - 47s 33ms/step - loss: 5.8339 - estring_loss: 0.5836 - Astring_loss: 0.8829 - Dstring_loss: 1.0848 - Gstring_loss: 1.1899 - Bstring_loss: 1.1621 - Estring_loss: 0.9305 - estring_accuracy: 0.8538 - Astring_accuracy: 0.7740 - Dstring_accuracy: 0.6897 - Gstring_accuracy: 0.6476 - Bstring_accuracy: 0.6657 - Estring_accuracy: 0.7556 - val_loss: 5.4528 - val_estring_loss: 0.4789 - val_Astring_loss: 0.8287 - val_Dstring_loss: 0.9977 - val_Gstring_loss: 0.9663 - val_Bstring_loss: 1.1419 - val_Estring_loss: 1.0393 - val_estring_accuracy: 0.8815 - val_Astring_accuracy: 0.7995 - val_Dstring_accuracy: 0.7337 - val_Gstring_accuracy: 0.7190 - val_Bstring_accuracy: 0.6645 - val_Estring_accuracy: 0.7657\n",
      "Epoch 4/30\n",
      "1438/1438 [==============================] - 49s 34ms/step - loss: 5.5689 - estring_loss: 0.5568 - Astring_loss: 0.8484 - Dstring_loss: 1.0374 - Gstring_loss: 1.1316 - Bstring_loss: 1.1062 - Estring_loss: 0.8886 - estring_accuracy: 0.8600 - Astring_accuracy: 0.7824 - Dstring_accuracy: 0.7026 - Gstring_accuracy: 0.6637 - Bstring_accuracy: 0.6794 - Estring_accuracy: 0.7676 - val_loss: 5.3620 - val_estring_loss: 0.4883 - val_Astring_loss: 0.8266 - val_Dstring_loss: 0.9687 - val_Gstring_loss: 0.9286 - val_Bstring_loss: 1.1135 - val_Estring_loss: 1.0364 - val_estring_accuracy: 0.8752 - val_Astring_accuracy: 0.8083 - val_Dstring_accuracy: 0.7473 - val_Gstring_accuracy: 0.7385 - val_Bstring_accuracy: 0.6665 - val_Estring_accuracy: 0.7665\n",
      "Epoch 5/30\n",
      "1438/1438 [==============================] - 49s 34ms/step - loss: 5.3752 - estring_loss: 0.5402 - Astring_loss: 0.8261 - Dstring_loss: 0.9968 - Gstring_loss: 1.0888 - Bstring_loss: 1.0668 - Estring_loss: 0.8565 - estring_accuracy: 0.8618 - Astring_accuracy: 0.7847 - Dstring_accuracy: 0.7163 - Gstring_accuracy: 0.6767 - Bstring_accuracy: 0.6891 - Estring_accuracy: 0.7744 - val_loss: 5.2940 - val_estring_loss: 0.4828 - val_Astring_loss: 0.8082 - val_Dstring_loss: 0.9534 - val_Gstring_loss: 0.9056 - val_Bstring_loss: 1.1077 - val_Estring_loss: 1.0364 - val_estring_accuracy: 0.8750 - val_Astring_accuracy: 0.8133 - val_Dstring_accuracy: 0.7535 - val_Gstring_accuracy: 0.7425 - val_Bstring_accuracy: 0.6758 - val_Estring_accuracy: 0.7667\n",
      "Epoch 6/30\n",
      "1438/1438 [==============================] - 52s 36ms/step - loss: 5.2249 - estring_loss: 0.5227 - Astring_loss: 0.8046 - Dstring_loss: 0.9743 - Gstring_loss: 1.0574 - Bstring_loss: 1.0320 - Estring_loss: 0.8339 - estring_accuracy: 0.8657 - Astring_accuracy: 0.7903 - Dstring_accuracy: 0.7194 - Gstring_accuracy: 0.6858 - Bstring_accuracy: 0.7026 - Estring_accuracy: 0.7814 - val_loss: 5.2859 - val_estring_loss: 0.4795 - val_Astring_loss: 0.8116 - val_Dstring_loss: 0.9484 - val_Gstring_loss: 0.9154 - val_Bstring_loss: 1.0901 - val_Estring_loss: 1.0408 - val_estring_accuracy: 0.8785 - val_Astring_accuracy: 0.8098 - val_Dstring_accuracy: 0.7517 - val_Gstring_accuracy: 0.7412 - val_Bstring_accuracy: 0.6815 - val_Estring_accuracy: 0.7575\n",
      "Epoch 7/30\n",
      "1438/1438 [==============================] - 53s 37ms/step - loss: 5.1064 - estring_loss: 0.5091 - Astring_loss: 0.7892 - Dstring_loss: 0.9535 - Gstring_loss: 1.0350 - Bstring_loss: 1.0056 - Estring_loss: 0.8140 - estring_accuracy: 0.8681 - Astring_accuracy: 0.7938 - Dstring_accuracy: 0.7271 - Gstring_accuracy: 0.6917 - Bstring_accuracy: 0.7072 - Estring_accuracy: 0.7863 - val_loss: 5.2692 - val_estring_loss: 0.4839 - val_Astring_loss: 0.8115 - val_Dstring_loss: 0.9621 - val_Gstring_loss: 0.9093 - val_Bstring_loss: 1.0715 - val_Estring_loss: 1.0310 - val_estring_accuracy: 0.8800 - val_Astring_accuracy: 0.8092 - val_Dstring_accuracy: 0.7535 - val_Gstring_accuracy: 0.7368 - val_Bstring_accuracy: 0.6982 - val_Estring_accuracy: 0.7670\n",
      "Epoch 8/30\n",
      "1438/1438 [==============================] - 52s 36ms/step - loss: 4.9896 - estring_loss: 0.4971 - Astring_loss: 0.7747 - Dstring_loss: 0.9275 - Gstring_loss: 1.0079 - Bstring_loss: 0.9864 - Estring_loss: 0.7961 - estring_accuracy: 0.8709 - Astring_accuracy: 0.7973 - Dstring_accuracy: 0.7329 - Gstring_accuracy: 0.7022 - Bstring_accuracy: 0.7132 - Estring_accuracy: 0.7908 - val_loss: 5.2155 - val_estring_loss: 0.4776 - val_Astring_loss: 0.8063 - val_Dstring_loss: 0.9241 - val_Gstring_loss: 0.8940 - val_Bstring_loss: 1.0519 - val_Estring_loss: 1.0616 - val_estring_accuracy: 0.8813 - val_Astring_accuracy: 0.8167 - val_Dstring_accuracy: 0.7617 - val_Gstring_accuracy: 0.7502 - val_Bstring_accuracy: 0.7025 - val_Estring_accuracy: 0.7613\n",
      "Epoch 9/30\n",
      "1438/1438 [==============================] - 58s 40ms/step - loss: 4.9016 - estring_loss: 0.4891 - Astring_loss: 0.7642 - Dstring_loss: 0.9152 - Gstring_loss: 0.9865 - Bstring_loss: 0.9666 - Estring_loss: 0.7800 - estring_accuracy: 0.8710 - Astring_accuracy: 0.7989 - Dstring_accuracy: 0.7364 - Gstring_accuracy: 0.7055 - Bstring_accuracy: 0.7207 - Estring_accuracy: 0.7949 - val_loss: 5.1980 - val_estring_loss: 0.4813 - val_Astring_loss: 0.8013 - val_Dstring_loss: 0.9203 - val_Gstring_loss: 0.8995 - val_Bstring_loss: 1.0659 - val_Estring_loss: 1.0296 - val_estring_accuracy: 0.8820 - val_Astring_accuracy: 0.8165 - val_Dstring_accuracy: 0.7657 - val_Gstring_accuracy: 0.7502 - val_Bstring_accuracy: 0.6980 - val_Estring_accuracy: 0.7670\n",
      "Epoch 10/30\n",
      "1438/1438 [==============================] - 54s 37ms/step - loss: 4.8243 - estring_loss: 0.4802 - Astring_loss: 0.7532 - Dstring_loss: 0.8998 - Gstring_loss: 0.9759 - Bstring_loss: 0.9499 - Estring_loss: 0.7653 - estring_accuracy: 0.8729 - Astring_accuracy: 0.8008 - Dstring_accuracy: 0.7403 - Gstring_accuracy: 0.7088 - Bstring_accuracy: 0.7242 - Estring_accuracy: 0.7991 - val_loss: 5.2212 - val_estring_loss: 0.4861 - val_Astring_loss: 0.8040 - val_Dstring_loss: 0.9299 - val_Gstring_loss: 0.8875 - val_Bstring_loss: 1.0669 - val_Estring_loss: 1.0467 - val_estring_accuracy: 0.8773 - val_Astring_accuracy: 0.8133 - val_Dstring_accuracy: 0.7620 - val_Gstring_accuracy: 0.7510 - val_Bstring_accuracy: 0.7063 - val_Estring_accuracy: 0.7670\n",
      "Epoch 11/30\n",
      "1438/1438 [==============================] - 53s 37ms/step - loss: 4.7541 - estring_loss: 0.4712 - Astring_loss: 0.7453 - Dstring_loss: 0.8885 - Gstring_loss: 0.9568 - Bstring_loss: 0.9377 - Estring_loss: 0.7546 - estring_accuracy: 0.8750 - Astring_accuracy: 0.8025 - Dstring_accuracy: 0.7426 - Gstring_accuracy: 0.7153 - Bstring_accuracy: 0.7276 - Estring_accuracy: 0.8013 - val_loss: 5.2711 - val_estring_loss: 0.4796 - val_Astring_loss: 0.8089 - val_Dstring_loss: 0.9520 - val_Gstring_loss: 0.8817 - val_Bstring_loss: 1.0966 - val_Estring_loss: 1.0524 - val_estring_accuracy: 0.8808 - val_Astring_accuracy: 0.8140 - val_Dstring_accuracy: 0.7582 - val_Gstring_accuracy: 0.7530 - val_Bstring_accuracy: 0.6925 - val_Estring_accuracy: 0.7660\n"
     ]
    },
    {
     "name": "stdout",
     "output_type": "stream",
     "text": [
      "Epoch 12/30\n",
      "1438/1438 [==============================] - 53s 37ms/step - loss: 4.6822 - estring_loss: 0.4659 - Astring_loss: 0.7320 - Dstring_loss: 0.8765 - Gstring_loss: 0.9445 - Bstring_loss: 0.9220 - Estring_loss: 0.7412 - estring_accuracy: 0.8763 - Astring_accuracy: 0.8054 - Dstring_accuracy: 0.7461 - Gstring_accuracy: 0.7173 - Bstring_accuracy: 0.7313 - Estring_accuracy: 0.8030 - val_loss: 5.2708 - val_estring_loss: 0.4914 - val_Astring_loss: 0.8094 - val_Dstring_loss: 0.9630 - val_Gstring_loss: 0.9025 - val_Bstring_loss: 1.0562 - val_Estring_loss: 1.0483 - val_estring_accuracy: 0.8800 - val_Astring_accuracy: 0.8138 - val_Dstring_accuracy: 0.7598 - val_Gstring_accuracy: 0.7455 - val_Bstring_accuracy: 0.7090 - val_Estring_accuracy: 0.7715\n",
      "Epoch 13/30\n",
      "1438/1438 [==============================] - 56s 39ms/step - loss: 4.6278 - estring_loss: 0.4588 - Astring_loss: 0.7248 - Dstring_loss: 0.8626 - Gstring_loss: 0.9326 - Bstring_loss: 0.9127 - Estring_loss: 0.7364 - estring_accuracy: 0.8772 - Astring_accuracy: 0.8063 - Dstring_accuracy: 0.7487 - Gstring_accuracy: 0.7211 - Bstring_accuracy: 0.7348 - Estring_accuracy: 0.8049 - val_loss: 5.2155 - val_estring_loss: 0.4801 - val_Astring_loss: 0.8016 - val_Dstring_loss: 0.9378 - val_Gstring_loss: 0.8913 - val_Bstring_loss: 1.0646 - val_Estring_loss: 1.0400 - val_estring_accuracy: 0.8805 - val_Astring_accuracy: 0.8140 - val_Dstring_accuracy: 0.7617 - val_Gstring_accuracy: 0.7465 - val_Bstring_accuracy: 0.6982 - val_Estring_accuracy: 0.7735\n",
      "Epoch 14/30\n",
      "1438/1438 [==============================] - 54s 37ms/step - loss: 4.5775 - estring_loss: 0.4538 - Astring_loss: 0.7162 - Dstring_loss: 0.8547 - Gstring_loss: 0.9253 - Bstring_loss: 0.9006 - Estring_loss: 0.7269 - estring_accuracy: 0.8787 - Astring_accuracy: 0.8074 - Dstring_accuracy: 0.7510 - Gstring_accuracy: 0.7241 - Bstring_accuracy: 0.7378 - Estring_accuracy: 0.8077 - val_loss: 5.2853 - val_estring_loss: 0.4856 - val_Astring_loss: 0.8272 - val_Dstring_loss: 0.9383 - val_Gstring_loss: 0.8958 - val_Bstring_loss: 1.0764 - val_Estring_loss: 1.0620 - val_estring_accuracy: 0.8832 - val_Astring_accuracy: 0.8125 - val_Dstring_accuracy: 0.7665 - val_Gstring_accuracy: 0.7530 - val_Bstring_accuracy: 0.7035 - val_Estring_accuracy: 0.7682\n",
      "Epoch 15/30\n",
      "1438/1438 [==============================] - 52s 36ms/step - loss: 4.5214 - estring_loss: 0.4479 - Astring_loss: 0.7084 - Dstring_loss: 0.8478 - Gstring_loss: 0.9096 - Bstring_loss: 0.8905 - Estring_loss: 0.7173 - estring_accuracy: 0.8790 - Astring_accuracy: 0.8094 - Dstring_accuracy: 0.7540 - Gstring_accuracy: 0.7268 - Bstring_accuracy: 0.7402 - Estring_accuracy: 0.8093 - val_loss: 5.2276 - val_estring_loss: 0.4795 - val_Astring_loss: 0.8061 - val_Dstring_loss: 0.9356 - val_Gstring_loss: 0.8939 - val_Bstring_loss: 1.0655 - val_Estring_loss: 1.0470 - val_estring_accuracy: 0.8848 - val_Astring_accuracy: 0.8177 - val_Dstring_accuracy: 0.7700 - val_Gstring_accuracy: 0.7542 - val_Bstring_accuracy: 0.7113 - val_Estring_accuracy: 0.7717\n",
      "Epoch 16/30\n",
      "1438/1438 [==============================] - 53s 37ms/step - loss: 4.4779 - estring_loss: 0.4411 - Astring_loss: 0.7018 - Dstring_loss: 0.8366 - Gstring_loss: 0.9055 - Bstring_loss: 0.8833 - Estring_loss: 0.7095 - estring_accuracy: 0.8812 - Astring_accuracy: 0.8099 - Dstring_accuracy: 0.7574 - Gstring_accuracy: 0.7297 - Bstring_accuracy: 0.7444 - Estring_accuracy: 0.8098 - val_loss: 5.2081 - val_estring_loss: 0.4817 - val_Astring_loss: 0.8161 - val_Dstring_loss: 0.9424 - val_Gstring_loss: 0.8707 - val_Bstring_loss: 1.0504 - val_Estring_loss: 1.0469 - val_estring_accuracy: 0.8852 - val_Astring_accuracy: 0.8150 - val_Dstring_accuracy: 0.7692 - val_Gstring_accuracy: 0.7625 - val_Bstring_accuracy: 0.7115 - val_Estring_accuracy: 0.7720\n",
      "Epoch 17/30\n",
      "1438/1438 [==============================] - 51s 35ms/step - loss: 4.4237 - estring_loss: 0.4329 - Astring_loss: 0.6942 - Dstring_loss: 0.8258 - Gstring_loss: 0.8897 - Bstring_loss: 0.8771 - Estring_loss: 0.7039 - estring_accuracy: 0.8829 - Astring_accuracy: 0.8119 - Dstring_accuracy: 0.7615 - Gstring_accuracy: 0.7334 - Bstring_accuracy: 0.7447 - Estring_accuracy: 0.8116 - val_loss: 5.2694 - val_estring_loss: 0.4969 - val_Astring_loss: 0.8132 - val_Dstring_loss: 0.9420 - val_Gstring_loss: 0.8787 - val_Bstring_loss: 1.0822 - val_Estring_loss: 1.0564 - val_estring_accuracy: 0.8830 - val_Astring_accuracy: 0.8177 - val_Dstring_accuracy: 0.7670 - val_Gstring_accuracy: 0.7595 - val_Bstring_accuracy: 0.7020 - val_Estring_accuracy: 0.7710\n",
      "Epoch 18/30\n",
      "1438/1438 [==============================] - 52s 36ms/step - loss: 4.3797 - estring_loss: 0.4315 - Astring_loss: 0.6862 - Dstring_loss: 0.8191 - Gstring_loss: 0.8815 - Bstring_loss: 0.8644 - Estring_loss: 0.6969 - estring_accuracy: 0.8824 - Astring_accuracy: 0.8143 - Dstring_accuracy: 0.7626 - Gstring_accuracy: 0.7367 - Bstring_accuracy: 0.7478 - Estring_accuracy: 0.8143 - val_loss: 5.2391 - val_estring_loss: 0.5068 - val_Astring_loss: 0.8132 - val_Dstring_loss: 0.9408 - val_Gstring_loss: 0.8742 - val_Bstring_loss: 1.0625 - val_Estring_loss: 1.0417 - val_estring_accuracy: 0.8808 - val_Astring_accuracy: 0.8163 - val_Dstring_accuracy: 0.7682 - val_Gstring_accuracy: 0.7590 - val_Bstring_accuracy: 0.7078 - val_Estring_accuracy: 0.7735\n",
      "Epoch 19/30\n",
      "1438/1438 [==============================] - 56s 39ms/step - loss: 4.3473 - estring_loss: 0.4265 - Astring_loss: 0.6803 - Dstring_loss: 0.8124 - Gstring_loss: 0.8786 - Bstring_loss: 0.8573 - Estring_loss: 0.6922 - estring_accuracy: 0.8847 - Astring_accuracy: 0.8149 - Dstring_accuracy: 0.7638 - Gstring_accuracy: 0.7388 - Bstring_accuracy: 0.7502 - Estring_accuracy: 0.8162 - val_loss: 5.2413 - val_estring_loss: 0.5003 - val_Astring_loss: 0.8178 - val_Dstring_loss: 0.9387 - val_Gstring_loss: 0.8775 - val_Bstring_loss: 1.0564 - val_Estring_loss: 1.0506 - val_estring_accuracy: 0.8805 - val_Astring_accuracy: 0.8148 - val_Dstring_accuracy: 0.7640 - val_Gstring_accuracy: 0.7592 - val_Bstring_accuracy: 0.7045 - val_Estring_accuracy: 0.7778\n",
      "Epoch 20/30\n",
      "1438/1438 [==============================] - 54s 37ms/step - loss: 4.3009 - estring_loss: 0.4250 - Astring_loss: 0.6768 - Dstring_loss: 0.8043 - Gstring_loss: 0.8663 - Bstring_loss: 0.8473 - Estring_loss: 0.6812 - estring_accuracy: 0.8847 - Astring_accuracy: 0.8163 - Dstring_accuracy: 0.7655 - Gstring_accuracy: 0.7392 - Bstring_accuracy: 0.7528 - Estring_accuracy: 0.8191 - val_loss: 5.2218 - val_estring_loss: 0.5012 - val_Astring_loss: 0.8283 - val_Dstring_loss: 0.9301 - val_Gstring_loss: 0.8802 - val_Bstring_loss: 1.0465 - val_Estring_loss: 1.0355 - val_estring_accuracy: 0.8805 - val_Astring_accuracy: 0.8115 - val_Dstring_accuracy: 0.7675 - val_Gstring_accuracy: 0.7588 - val_Bstring_accuracy: 0.7092 - val_Estring_accuracy: 0.7788\n",
      "Epoch 21/30\n",
      "1438/1438 [==============================] - 56s 39ms/step - loss: 4.2740 - estring_loss: 0.4201 - Astring_loss: 0.6742 - Dstring_loss: 0.7995 - Gstring_loss: 0.8597 - Bstring_loss: 0.8434 - Estring_loss: 0.6772 - estring_accuracy: 0.8843 - Astring_accuracy: 0.8159 - Dstring_accuracy: 0.7670 - Gstring_accuracy: 0.7421 - Bstring_accuracy: 0.7532 - Estring_accuracy: 0.8173 - val_loss: 5.2094 - val_estring_loss: 0.4809 - val_Astring_loss: 0.8120 - val_Dstring_loss: 0.9439 - val_Gstring_loss: 0.8533 - val_Bstring_loss: 1.0771 - val_Estring_loss: 1.0422 - val_estring_accuracy: 0.8870 - val_Astring_accuracy: 0.8195 - val_Dstring_accuracy: 0.7680 - val_Gstring_accuracy: 0.7738 - val_Bstring_accuracy: 0.7030 - val_Estring_accuracy: 0.7788\n",
      "Epoch 22/30\n",
      "1438/1438 [==============================] - 53s 37ms/step - loss: 4.2329 - estring_loss: 0.4171 - Astring_loss: 0.6636 - Dstring_loss: 0.7955 - Gstring_loss: 0.8521 - Bstring_loss: 0.8354 - Estring_loss: 0.6691 - estring_accuracy: 0.8853 - Astring_accuracy: 0.8182 - Dstring_accuracy: 0.7697 - Gstring_accuracy: 0.7457 - Bstring_accuracy: 0.7546 - Estring_accuracy: 0.8188 - val_loss: 5.2418 - val_estring_loss: 0.4924 - val_Astring_loss: 0.8212 - val_Dstring_loss: 0.9286 - val_Gstring_loss: 0.8809 - val_Bstring_loss: 1.0674 - val_Estring_loss: 1.0513 - val_estring_accuracy: 0.8805 - val_Astring_accuracy: 0.8170 - val_Dstring_accuracy: 0.7720 - val_Gstring_accuracy: 0.7632 - val_Bstring_accuracy: 0.7080 - val_Estring_accuracy: 0.7770\n"
     ]
    },
    {
     "name": "stdout",
     "output_type": "stream",
     "text": [
      "Epoch 23/30\n",
      "1438/1438 [==============================] - 52s 36ms/step - loss: 4.2044 - estring_loss: 0.4151 - Astring_loss: 0.6608 - Dstring_loss: 0.7892 - Gstring_loss: 0.8436 - Bstring_loss: 0.8318 - Estring_loss: 0.6640 - estring_accuracy: 0.8855 - Astring_accuracy: 0.8187 - Dstring_accuracy: 0.7709 - Gstring_accuracy: 0.7461 - Bstring_accuracy: 0.7559 - Estring_accuracy: 0.8212 - val_loss: 5.2477 - val_estring_loss: 0.5047 - val_Astring_loss: 0.8133 - val_Dstring_loss: 0.9323 - val_Gstring_loss: 0.8722 - val_Bstring_loss: 1.0630 - val_Estring_loss: 1.0623 - val_estring_accuracy: 0.8832 - val_Astring_accuracy: 0.8140 - val_Dstring_accuracy: 0.7710 - val_Gstring_accuracy: 0.7628 - val_Bstring_accuracy: 0.7188 - val_Estring_accuracy: 0.7810\n",
      "Epoch 24/30\n",
      "1438/1438 [==============================] - 53s 37ms/step - loss: 4.1723 - estring_loss: 0.4089 - Astring_loss: 0.6550 - Dstring_loss: 0.7836 - Gstring_loss: 0.8357 - Bstring_loss: 0.8270 - Estring_loss: 0.6621 - estring_accuracy: 0.8884 - Astring_accuracy: 0.8195 - Dstring_accuracy: 0.7717 - Gstring_accuracy: 0.7478 - Bstring_accuracy: 0.7577 - Estring_accuracy: 0.8220 - val_loss: 5.3084 - val_estring_loss: 0.5027 - val_Astring_loss: 0.8406 - val_Dstring_loss: 0.9437 - val_Gstring_loss: 0.8820 - val_Bstring_loss: 1.0695 - val_Estring_loss: 1.0699 - val_estring_accuracy: 0.8840 - val_Astring_accuracy: 0.8155 - val_Dstring_accuracy: 0.7665 - val_Gstring_accuracy: 0.7615 - val_Bstring_accuracy: 0.7143 - val_Estring_accuracy: 0.7765\n",
      "Epoch 25/30\n",
      "1438/1438 [==============================] - 51s 35ms/step - loss: 4.1417 - estring_loss: 0.4019 - Astring_loss: 0.6519 - Dstring_loss: 0.7777 - Gstring_loss: 0.8325 - Bstring_loss: 0.8227 - Estring_loss: 0.6551 - estring_accuracy: 0.8883 - Astring_accuracy: 0.8214 - Dstring_accuracy: 0.7728 - Gstring_accuracy: 0.7490 - Bstring_accuracy: 0.7573 - Estring_accuracy: 0.8232 - val_loss: 5.3240 - val_estring_loss: 0.5045 - val_Astring_loss: 0.8344 - val_Dstring_loss: 0.9451 - val_Gstring_loss: 0.8776 - val_Bstring_loss: 1.0776 - val_Estring_loss: 1.0849 - val_estring_accuracy: 0.8848 - val_Astring_accuracy: 0.8145 - val_Dstring_accuracy: 0.7700 - val_Gstring_accuracy: 0.7617 - val_Bstring_accuracy: 0.7097 - val_Estring_accuracy: 0.7757\n",
      "Epoch 26/30\n",
      "1438/1438 [==============================] - 50s 35ms/step - loss: 4.1025 - estring_loss: 0.3987 - Astring_loss: 0.6488 - Dstring_loss: 0.7717 - Gstring_loss: 0.8250 - Bstring_loss: 0.8104 - Estring_loss: 0.6478 - estring_accuracy: 0.8889 - Astring_accuracy: 0.8203 - Dstring_accuracy: 0.7748 - Gstring_accuracy: 0.7510 - Bstring_accuracy: 0.7610 - Estring_accuracy: 0.8247 - val_loss: 5.3255 - val_estring_loss: 0.4972 - val_Astring_loss: 0.8379 - val_Dstring_loss: 0.9523 - val_Gstring_loss: 0.8903 - val_Bstring_loss: 1.0705 - val_Estring_loss: 1.0773 - val_estring_accuracy: 0.8830 - val_Astring_accuracy: 0.8163 - val_Dstring_accuracy: 0.7692 - val_Gstring_accuracy: 0.7595 - val_Bstring_accuracy: 0.7125 - val_Estring_accuracy: 0.7770\n",
      "Epoch 27/30\n",
      "1438/1438 [==============================] - 52s 36ms/step - loss: 4.0957 - estring_loss: 0.3976 - Astring_loss: 0.6450 - Dstring_loss: 0.7656 - Gstring_loss: 0.8258 - Bstring_loss: 0.8125 - Estring_loss: 0.6491 - estring_accuracy: 0.8895 - Astring_accuracy: 0.8214 - Dstring_accuracy: 0.7765 - Gstring_accuracy: 0.7516 - Bstring_accuracy: 0.7603 - Estring_accuracy: 0.8240 - val_loss: 5.3472 - val_estring_loss: 0.5228 - val_Astring_loss: 0.8585 - val_Dstring_loss: 0.9455 - val_Gstring_loss: 0.8872 - val_Bstring_loss: 1.0610 - val_Estring_loss: 1.0722 - val_estring_accuracy: 0.8788 - val_Astring_accuracy: 0.8115 - val_Dstring_accuracy: 0.7707 - val_Gstring_accuracy: 0.7640 - val_Bstring_accuracy: 0.7150 - val_Estring_accuracy: 0.7795\n",
      "Epoch 28/30\n",
      "1438/1438 [==============================] - 51s 35ms/step - loss: 4.0460 - estring_loss: 0.3930 - Astring_loss: 0.6346 - Dstring_loss: 0.7600 - Gstring_loss: 0.8194 - Bstring_loss: 0.8018 - Estring_loss: 0.6373 - estring_accuracy: 0.8894 - Astring_accuracy: 0.8230 - Dstring_accuracy: 0.7763 - Gstring_accuracy: 0.7542 - Bstring_accuracy: 0.7632 - Estring_accuracy: 0.8275 - val_loss: 5.3310 - val_estring_loss: 0.4992 - val_Astring_loss: 0.8206 - val_Dstring_loss: 0.9524 - val_Gstring_loss: 0.8858 - val_Bstring_loss: 1.0817 - val_Estring_loss: 1.0913 - val_estring_accuracy: 0.8842 - val_Astring_accuracy: 0.8170 - val_Dstring_accuracy: 0.7713 - val_Gstring_accuracy: 0.7675 - val_Bstring_accuracy: 0.7130 - val_Estring_accuracy: 0.7760\n",
      "Epoch 29/30\n",
      "1438/1438 [==============================] - 56s 39ms/step - loss: 4.0309 - estring_loss: 0.3900 - Astring_loss: 0.6362 - Dstring_loss: 0.7575 - Gstring_loss: 0.8111 - Bstring_loss: 0.7978 - Estring_loss: 0.6383 - estring_accuracy: 0.8902 - Astring_accuracy: 0.8214 - Dstring_accuracy: 0.7791 - Gstring_accuracy: 0.7552 - Bstring_accuracy: 0.7656 - Estring_accuracy: 0.8265 - val_loss: 5.3597 - val_estring_loss: 0.5174 - val_Astring_loss: 0.8457 - val_Dstring_loss: 0.9706 - val_Gstring_loss: 0.8829 - val_Bstring_loss: 1.0665 - val_Estring_loss: 1.0766 - val_estring_accuracy: 0.8827 - val_Astring_accuracy: 0.8140 - val_Dstring_accuracy: 0.7670 - val_Gstring_accuracy: 0.7670 - val_Bstring_accuracy: 0.7155 - val_Estring_accuracy: 0.7797\n",
      "Epoch 30/30\n",
      "1438/1438 [==============================] - 55s 39ms/step - loss: 4.0010 - estring_loss: 0.3858 - Astring_loss: 0.6276 - Dstring_loss: 0.7548 - Gstring_loss: 0.8083 - Bstring_loss: 0.7922 - Estring_loss: 0.6322 - estring_accuracy: 0.8921 - Astring_accuracy: 0.8252 - Dstring_accuracy: 0.7791 - Gstring_accuracy: 0.7557 - Bstring_accuracy: 0.7671 - Estring_accuracy: 0.8283 - val_loss: 5.3510 - val_estring_loss: 0.5073 - val_Astring_loss: 0.8445 - val_Dstring_loss: 0.9521 - val_Gstring_loss: 0.8861 - val_Bstring_loss: 1.0730 - val_Estring_loss: 1.0881 - val_estring_accuracy: 0.8823 - val_Astring_accuracy: 0.8148 - val_Dstring_accuracy: 0.7648 - val_Gstring_accuracy: 0.7613 - val_Bstring_accuracy: 0.7125 - val_Estring_accuracy: 0.7763\n",
      "WARNING:tensorflow:From /Users/dguidi/.virtualenvs/polytrack/lib/python3.7/site-packages/tensorflow/python/ops/resource_variable_ops.py:1817: calling BaseResourceVariable.__init__ (from tensorflow.python.ops.resource_variable_ops) with constraint is deprecated and will be removed in a future version.\n",
      "Instructions for updating:\n",
      "If using Keras pass *_constraint arguments to layers.\n",
      "INFO:tensorflow:Assets written to: model.k/assets\n"
     ]
    }
   ],
   "source": [
    "\n",
    "history = model.fit(X_train, [e_train, A_train, D_train, G_train, B_train, E_train],\n",
    "                    batch_size = batch_size, epochs = epochs, verbose = 1,\n",
    "                    validation_data = (X_test, [e_test, A_test, D_test, G_test, B_test, E_test]))\n",
    "\n",
    "model.save('model.k')\n"
   ]
  }
 ],
 "metadata": {
  "kernelspec": {
   "display_name": "polytrack",
   "language": "python",
   "name": "polytrack"
  },
  "language_info": {
   "codemirror_mode": {
    "name": "ipython",
    "version": 3
   },
   "file_extension": ".py",
   "mimetype": "text/x-python",
   "name": "python",
   "nbconvert_exporter": "python",
   "pygments_lexer": "ipython3",
   "version": "3.7.7"
  }
 },
 "nbformat": 4,
 "nbformat_minor": 2
}
