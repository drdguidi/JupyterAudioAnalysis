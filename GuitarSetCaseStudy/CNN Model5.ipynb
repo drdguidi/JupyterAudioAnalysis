{
 "cells": [
  {
   "cell_type": "markdown",
   "metadata": {},
   "source": [
    "## CNN Model\n",
    "\n",
    "This code has minor differences, mainly related to handling data in a Pandas dataframe."
   ]
  },
  {
   "cell_type": "code",
   "execution_count": 1,
   "metadata": {},
   "outputs": [],
   "source": [
    "import numpy as np\n",
    "import matplotlib.pyplot as plt\n",
    "\n",
    "import pandas as pd\n",
    "\n",
    "import pickle\n",
    "\n",
    "import tensorflow as tf\n",
    "from tensorflow import keras\n",
    "from tensorflow.keras.layers import Conv2D, MaxPooling2D, Flatten, Dense, Dropout\n",
    "\n",
    "from sklearn.model_selection import train_test_split"
   ]
  },
  {
   "cell_type": "code",
   "execution_count": 2,
   "metadata": {},
   "outputs": [
    {
     "name": "stdout",
     "output_type": "stream",
     "text": [
      "Loading dataset...\n",
      "Done\n"
     ]
    }
   ],
   "source": [
    "notesInString = [['e string OFF', 'E2', 'F2', 'F#2', 'G2', 'G#2', 'A2', 'A#2', 'B2', \n",
    "                  'C3', 'C#3', 'D3', 'D#3', 'E3', 'F3', 'F#3', 'G3', 'G#3', 'A3', 'A#3', 'B3'],\n",
    "                 ['A string OFF', 'A2', 'A#2', 'B2', 'C3', 'C#3', 'D3', 'D#3', 'E3', \n",
    "                  'F3', 'F#3', 'G3', 'G#3', 'A3', 'A#3', 'B3', 'C4', 'C#4', 'D4', 'D#4', 'E4'],\n",
    "                 ['D string OFF', 'D3', 'D#3', 'E3', 'F3', 'F#3', 'G3', 'G#3', 'A3', \n",
    "                  'A#3', 'B3', 'C4', 'C#4', 'D4', 'D#4', 'E4', 'F4', 'F#4', 'G4', 'G#4', 'A4'],\n",
    "                 ['G string OFF', 'G3', 'G#3', 'A3', 'A#3', 'B3', 'C4', 'C#4', 'D4', \n",
    "                  'D#4', 'E4', 'F4', 'F#4', 'G4', 'G#4', 'A4', 'A#4', 'B4', 'C5', 'C#5', 'D5'],\n",
    "                 ['B string OFF', 'B3', 'C4', 'C#4', 'D4', 'D#4', 'E4', 'F4', 'F#4', \n",
    "                  'G4', 'G#4', 'A4', 'A#4', 'B4', 'C5', 'C#5', 'D5', 'D#5', 'E5', 'F5', 'F#5'],\n",
    "                 ['E string OFF', 'E4', 'F4', 'F#4', 'G4', 'G#4', 'A4', 'A#4', 'B4', \n",
    "                  'C5', 'C#5', 'D5', 'D#5', 'E5', 'F5', 'F#5', 'G5', 'G#5', 'A5', 'A#5', 'B5']]\n",
    "\n",
    "print('Loading dataset...')\n",
    "ds = pickle.load(open('data/dataset5', 'rb'))\n",
    "print('Done')\n"
   ]
  },
  {
   "cell_type": "code",
   "execution_count": 3,
   "metadata": {},
   "outputs": [
    {
     "name": "stdout",
     "output_type": "stream",
     "text": [
      "Creating one-hot-encoding array\n",
      "(126730, 84, 9, 1)\n"
     ]
    }
   ],
   "source": [
    "train, test = train_test_split(ds, test_size=0.1, random_state=42)\n",
    "\n",
    "X_train = np.array(train['CQT'].to_list())\n",
    "X_train = np.reshape(X_train, (len(X_train), 84, 9, 1))\n",
    "\n",
    "X_test = np.array(test['CQT'].to_list())\n",
    "X_test = np.reshape(X_test, (len(X_test), 84, 9, 1))\n",
    "\n",
    "print('Creating one-hot-encoding array')\n",
    "y_train = []\n",
    "y_test = []\n",
    "for c in train.columns[1:]:\n",
    "    y_train += [tf.keras.utils.to_categorical(train[c], num_classes=21)]\n",
    "    y_test += [tf.keras.utils.to_categorical(test[c], num_classes=21)]\n",
    "\n",
    "\n",
    "e_train = y_train[0]\n",
    "A_train = y_train[1]\n",
    "D_train = y_train[2]\n",
    "G_train = y_train[3]\n",
    "B_train = y_train[4]\n",
    "E_train = y_train[5]\n",
    "\n",
    "e_test = y_test[0]\n",
    "A_test = y_test[1]\n",
    "D_test = y_test[2]\n",
    "G_test = y_test[3]\n",
    "B_test = y_test[4]\n",
    "E_test = y_test[5]\n",
    "\n",
    "print(X_train.shape)\n"
   ]
  },
  {
   "cell_type": "code",
   "execution_count": 4,
   "metadata": {},
   "outputs": [
    {
     "name": "stdout",
     "output_type": "stream",
     "text": [
      "Input shape:  (84, 9, 1)\n"
     ]
    }
   ],
   "source": [
    "batch_size = 32\n",
    "\n",
    "input_shape = X_train.shape[1:]\n",
    "print('Input shape: ', input_shape)\n",
    "# Optimizer\n",
    "epochs = 30\n",
    "learning_rate = 0.01 \n",
    "momentum = 0.8\n",
    "decay = learning_rate/epochs\n",
    "sgd = keras.optimizers.SGD(lr = learning_rate, momentum = momentum, decay = decay, nesterov = False)\n",
    "\n",
    "# Training (Functional Method)\n",
    "model_in = keras.Input(shape = input_shape)\n",
    "conv1 = Conv2D(32, kernel_size = (3, 3), activation = 'relu')(model_in)\n",
    "conv2 = Conv2D(64, kernel_size = (3, 3), activation = 'relu')(conv1)\n",
    "conv3 = Conv2D(64, kernel_size = (3, 3), activation = 'relu')(conv2)\n",
    "pool1 = MaxPooling2D(pool_size = (2, 2), strides = (2, 2))(conv3)\n",
    "flat = Flatten()(pool1)\n",
    "\n",
    "# Create fully connected model heads\n",
    "y1 = Dense(128, activation = 'relu')(flat)\n",
    "y1 = Dropout(0.5)(y1)\n",
    "y1 = Dense(126)(y1)\n",
    "y1 = Dropout(0.2)(y1)\n",
    "\n",
    "y2 = Dense(128, activation = 'relu')(flat)\n",
    "y2 = Dropout(0.5)(y2)\n",
    "y2 = Dense(126)(y2)\n",
    "y2 = Dropout(0.2)(y2)\n",
    "\n",
    "y3 = Dense(128, activation = 'relu')(flat)\n",
    "y3 = Dropout(0.5)(y3)\n",
    "y3 = Dense(126)(y3)\n",
    "y3 = Dropout(0.2)(y3)\n",
    "\n",
    "y4 = Dense(128, activation = 'relu')(flat)\n",
    "y4 = Dropout(0.5)(y4)\n",
    "y4 = Dense(126)(y4)\n",
    "y4 = Dropout(0.2)(y4)\n",
    "\n",
    "y5 = Dense(128, activation = 'relu')(flat)\n",
    "y5 = Dropout(0.5)(y5)\n",
    "y5 = Dense(126)(y5)\n",
    "y5 = Dropout(0.2)(y5)\n",
    "\n",
    "y6 = Dense(128, activation = 'relu')(flat)\n",
    "y6 = Dropout(0.5)(y6)\n",
    "y6 = Dense(126)(y6)\n",
    "y6 = Dropout(0.2)(y6)\n",
    "\n",
    "# Connect heads to final output layer\n",
    "out1 = Dense(21, activation = 'softmax', name = 'estring')(y1)\n",
    "out2 = Dense(21, activation = 'softmax', name = 'Astring')(y2)\n",
    "out3 = Dense(21, activation = 'softmax', name = 'Dstring')(y3)\n",
    "out4 = Dense(21, activation = 'softmax', name = 'Gstring')(y4)\n",
    "out5 = Dense(21, activation = 'softmax', name = 'Bstring')(y5)\n",
    "out6 = Dense(21, activation = 'softmax', name = 'Estring')(y6)\n",
    "\n",
    "# Create model\n",
    "model = keras.Model(inputs = model_in, outputs = [out1, out2, out3, out4, out5, out6]) #, out2, out3, out4, out5, out6])\n",
    "model.compile(optimizer = sgd, loss = ['categorical_crossentropy', 'categorical_crossentropy', \n",
    "                                       'categorical_crossentropy', 'categorical_crossentropy', \n",
    "                                       'categorical_crossentropy', 'categorical_crossentropy'],\n",
    "              metrics = ['accuracy'])\n",
    "\n"
   ]
  },
  {
   "cell_type": "code",
   "execution_count": 5,
   "metadata": {},
   "outputs": [
    {
     "name": "stdout",
     "output_type": "stream",
     "text": [
      "Train on 126730 samples, validate on 14082 samples\n",
      "Epoch 1/30\n",
      "126730/126730 [==============================] - 64s 507us/sample - loss: 6.0729 - estring_loss: 0.7111 - Astring_loss: 0.9157 - Dstring_loss: 1.1347 - Gstring_loss: 1.2010 - Bstring_loss: 1.2108 - Estring_loss: 0.8994 - estring_accuracy: 0.7940 - Astring_accuracy: 0.7288 - Dstring_accuracy: 0.6513 - Gstring_accuracy: 0.6215 - Bstring_accuracy: 0.6191 - Estring_accuracy: 0.7246 - val_loss: 3.8352 - val_estring_loss: 0.4533 - val_Astring_loss: 0.6008 - val_Dstring_loss: 0.7170 - val_Gstring_loss: 0.7549 - val_Bstring_loss: 0.7503 - val_Estring_loss: 0.5516 - val_estring_accuracy: 0.8587 - val_Astring_accuracy: 0.8136 - val_Dstring_accuracy: 0.7703 - val_Gstring_accuracy: 0.7608 - val_Bstring_accuracy: 0.7594 - val_Estring_accuracy: 0.8221\n",
      "Epoch 2/30\n",
      "126730/126730 [==============================] - 62s 492us/sample - loss: 4.2908 - estring_loss: 0.5010 - Astring_loss: 0.6623 - Dstring_loss: 0.8148 - Gstring_loss: 0.8480 - Bstring_loss: 0.8531 - Estring_loss: 0.6117 - estring_accuracy: 0.8497 - Astring_accuracy: 0.8013 - Dstring_accuracy: 0.7473 - Gstring_accuracy: 0.7351 - Bstring_accuracy: 0.7316 - Estring_accuracy: 0.8075 - val_loss: 3.2974 - val_estring_loss: 0.3973 - val_Astring_loss: 0.5187 - val_Dstring_loss: 0.6337 - val_Gstring_loss: 0.6596 - val_Bstring_loss: 0.6395 - val_Estring_loss: 0.4417 - val_estring_accuracy: 0.8799 - val_Astring_accuracy: 0.8394 - val_Dstring_accuracy: 0.7970 - val_Gstring_accuracy: 0.7942 - val_Bstring_accuracy: 0.8035 - val_Estring_accuracy: 0.8571\n",
      "Epoch 3/30\n",
      "126730/126730 [==============================] - 62s 492us/sample - loss: 3.8394 - estring_loss: 0.4531 - Astring_loss: 0.5969 - Dstring_loss: 0.7332 - Gstring_loss: 0.7579 - Bstring_loss: 0.7587 - Estring_loss: 0.5393 - estring_accuracy: 0.8649 - Astring_accuracy: 0.8210 - Dstring_accuracy: 0.7730 - Gstring_accuracy: 0.7637 - Bstring_accuracy: 0.7615 - Estring_accuracy: 0.8292 - val_loss: 3.0334 - val_estring_loss: 0.3704 - val_Astring_loss: 0.4825 - val_Dstring_loss: 0.5834 - val_Gstring_loss: 0.6047 - val_Bstring_loss: 0.5884 - val_Estring_loss: 0.3976 - val_estring_accuracy: 0.8901 - val_Astring_accuracy: 0.8529 - val_Dstring_accuracy: 0.8169 - val_Gstring_accuracy: 0.8154 - val_Bstring_accuracy: 0.8184 - val_Estring_accuracy: 0.8757\n",
      "Epoch 4/30\n",
      "126730/126730 [==============================] - 62s 492us/sample - loss: 3.5708 - estring_loss: 0.4241 - Astring_loss: 0.5590 - Dstring_loss: 0.6821 - Gstring_loss: 0.7081 - Bstring_loss: 0.7030 - Estring_loss: 0.4945 - estring_accuracy: 0.8736 - Astring_accuracy: 0.8322 - Dstring_accuracy: 0.7893 - Gstring_accuracy: 0.7808 - Bstring_accuracy: 0.7798 - Estring_accuracy: 0.8441 - val_loss: 2.8790 - val_estring_loss: 0.3485 - val_Astring_loss: 0.4620 - val_Dstring_loss: 0.5610 - val_Gstring_loss: 0.5768 - val_Bstring_loss: 0.5509 - val_Estring_loss: 0.3738 - val_estring_accuracy: 0.8964 - val_Astring_accuracy: 0.8590 - val_Dstring_accuracy: 0.8254 - val_Gstring_accuracy: 0.8264 - val_Bstring_accuracy: 0.8299 - val_Estring_accuracy: 0.8813\n",
      "Epoch 5/30\n",
      "126730/126730 [==============================] - 62s 491us/sample - loss: 3.3793 - estring_loss: 0.3998 - Astring_loss: 0.5320 - Dstring_loss: 0.6511 - Gstring_loss: 0.6672 - Bstring_loss: 0.6665 - Estring_loss: 0.4631 - estring_accuracy: 0.8805 - Astring_accuracy: 0.8402 - Dstring_accuracy: 0.7997 - Gstring_accuracy: 0.7933 - Bstring_accuracy: 0.7931 - Estring_accuracy: 0.8549 - val_loss: 2.7440 - val_estring_loss: 0.3336 - val_Astring_loss: 0.4413 - val_Dstring_loss: 0.5337 - val_Gstring_loss: 0.5524 - val_Bstring_loss: 0.5285 - val_Estring_loss: 0.3488 - val_estring_accuracy: 0.9007 - val_Astring_accuracy: 0.8662 - val_Dstring_accuracy: 0.8351 - val_Gstring_accuracy: 0.8341 - val_Bstring_accuracy: 0.8387 - val_Estring_accuracy: 0.8904\n",
      "Epoch 6/30\n",
      "126730/126730 [==============================] - 62s 492us/sample - loss: 3.2427 - estring_loss: 0.3824 - Astring_loss: 0.5138 - Dstring_loss: 0.6244 - Gstring_loss: 0.6419 - Bstring_loss: 0.6396 - Estring_loss: 0.4407 - estring_accuracy: 0.8865 - Astring_accuracy: 0.8462 - Dstring_accuracy: 0.8068 - Gstring_accuracy: 0.7996 - Bstring_accuracy: 0.8004 - Estring_accuracy: 0.8616 - val_loss: 2.6467 - val_estring_loss: 0.3234 - val_Astring_loss: 0.4299 - val_Dstring_loss: 0.5142 - val_Gstring_loss: 0.5282 - val_Bstring_loss: 0.5094 - val_Estring_loss: 0.3361 - val_estring_accuracy: 0.9045 - val_Astring_accuracy: 0.8686 - val_Dstring_accuracy: 0.8411 - val_Gstring_accuracy: 0.8385 - val_Bstring_accuracy: 0.8435 - val_Estring_accuracy: 0.8926\n",
      "Epoch 7/30\n",
      "126730/126730 [==============================] - 63s 495us/sample - loss: 3.1314 - estring_loss: 0.3710 - Astring_loss: 0.4950 - Dstring_loss: 0.6053 - Gstring_loss: 0.6220 - Bstring_loss: 0.6171 - Estring_loss: 0.4209 - estring_accuracy: 0.8884 - Astring_accuracy: 0.8508 - Dstring_accuracy: 0.8135 - Gstring_accuracy: 0.8071 - Bstring_accuracy: 0.8074 - Estring_accuracy: 0.8684 - val_loss: 2.5699 - val_estring_loss: 0.3095 - val_Astring_loss: 0.4200 - val_Dstring_loss: 0.5052 - val_Gstring_loss: 0.5168 - val_Bstring_loss: 0.4947 - val_Estring_loss: 0.3184 - val_estring_accuracy: 0.9095 - val_Astring_accuracy: 0.8719 - val_Dstring_accuracy: 0.8459 - val_Gstring_accuracy: 0.8455 - val_Bstring_accuracy: 0.8497 - val_Estring_accuracy: 0.9013\n",
      "Epoch 8/30\n",
      "126730/126730 [==============================] - 62s 491us/sample - loss: 3.0472 - estring_loss: 0.3588 - Astring_loss: 0.4844 - Dstring_loss: 0.5908 - Gstring_loss: 0.6029 - Bstring_loss: 0.6021 - Estring_loss: 0.4084 - estring_accuracy: 0.8926 - Astring_accuracy: 0.8553 - Dstring_accuracy: 0.8179 - Gstring_accuracy: 0.8120 - Bstring_accuracy: 0.8113 - Estring_accuracy: 0.8722 - val_loss: 2.5183 - val_estring_loss: 0.3030 - val_Astring_loss: 0.4111 - val_Dstring_loss: 0.4936 - val_Gstring_loss: 0.5077 - val_Bstring_loss: 0.4848 - val_Estring_loss: 0.3129 - val_estring_accuracy: 0.9113 - val_Astring_accuracy: 0.8768 - val_Dstring_accuracy: 0.8487 - val_Gstring_accuracy: 0.8486 - val_Bstring_accuracy: 0.8529 - val_Estring_accuracy: 0.9016\n",
      "Epoch 9/30\n",
      "126730/126730 [==============================] - 62s 492us/sample - loss: 2.9648 - estring_loss: 0.3489 - Astring_loss: 0.4707 - Dstring_loss: 0.5779 - Gstring_loss: 0.5867 - Bstring_loss: 0.5852 - Estring_loss: 0.3954 - estring_accuracy: 0.8958 - Astring_accuracy: 0.8585 - Dstring_accuracy: 0.8209 - Gstring_accuracy: 0.8176 - Bstring_accuracy: 0.8162 - Estring_accuracy: 0.8762 - val_loss: 2.4582 - val_estring_loss: 0.2979 - val_Astring_loss: 0.3987 - val_Dstring_loss: 0.4813 - val_Gstring_loss: 0.4988 - val_Bstring_loss: 0.4746 - val_Estring_loss: 0.3019 - val_estring_accuracy: 0.9131 - val_Astring_accuracy: 0.8815 - val_Dstring_accuracy: 0.8519 - val_Gstring_accuracy: 0.8502 - val_Bstring_accuracy: 0.8571 - val_Estring_accuracy: 0.9047\n",
      "Epoch 10/30\n",
      "126730/126730 [==============================] - 62s 493us/sample - loss: 2.8874 - estring_loss: 0.3420 - Astring_loss: 0.4594 - Dstring_loss: 0.5623 - Gstring_loss: 0.5751 - Bstring_loss: 0.5689 - Estring_loss: 0.3799 - estring_accuracy: 0.8982 - Astring_accuracy: 0.8611 - Dstring_accuracy: 0.8260 - Gstring_accuracy: 0.8217 - Bstring_accuracy: 0.8211 - Estring_accuracy: 0.8813 - val_loss: 2.4060 - val_estring_loss: 0.2906 - val_Astring_loss: 0.3922 - val_Dstring_loss: 0.4732 - val_Gstring_loss: 0.4882 - val_Bstring_loss: 0.4657 - val_Estring_loss: 0.2910 - val_estring_accuracy: 0.9162 - val_Astring_accuracy: 0.8833 - val_Dstring_accuracy: 0.8546 - val_Gstring_accuracy: 0.8541 - val_Bstring_accuracy: 0.8580 - val_Estring_accuracy: 0.9098\n",
      "Epoch 11/30\n",
      "126730/126730 [==============================] - 62s 492us/sample - loss: 2.8313 - estring_loss: 0.3330 - Astring_loss: 0.4542 - Dstring_loss: 0.5503 - Gstring_loss: 0.5639 - Bstring_loss: 0.5582 - Estring_loss: 0.3717 - estring_accuracy: 0.9004 - Astring_accuracy: 0.8641 - Dstring_accuracy: 0.8284 - Gstring_accuracy: 0.8255 - Bstring_accuracy: 0.8254 - Estring_accuracy: 0.8834 - val_loss: 2.3651 - val_estring_loss: 0.2853 - val_Astring_loss: 0.3877 - val_Dstring_loss: 0.4674 - val_Gstring_loss: 0.4786 - val_Bstring_loss: 0.4569 - val_Estring_loss: 0.2842 - val_estring_accuracy: 0.9181 - val_Astring_accuracy: 0.8842 - val_Dstring_accuracy: 0.8568 - val_Gstring_accuracy: 0.8578 - val_Bstring_accuracy: 0.8615 - val_Estring_accuracy: 0.9115\n"
     ]
    },
    {
     "name": "stdout",
     "output_type": "stream",
     "text": [
      "Epoch 12/30\n",
      "126730/126730 [==============================] - 62s 492us/sample - loss: 2.7878 - estring_loss: 0.3257 - Astring_loss: 0.4437 - Dstring_loss: 0.5428 - Gstring_loss: 0.5565 - Bstring_loss: 0.5511 - Estring_loss: 0.3680 - estring_accuracy: 0.9033 - Astring_accuracy: 0.8661 - Dstring_accuracy: 0.8316 - Gstring_accuracy: 0.8270 - Bstring_accuracy: 0.8271 - Estring_accuracy: 0.8847 - val_loss: 2.3400 - val_estring_loss: 0.2822 - val_Astring_loss: 0.3848 - val_Dstring_loss: 0.4608 - val_Gstring_loss: 0.4743 - val_Bstring_loss: 0.4521 - val_Estring_loss: 0.2810 - val_estring_accuracy: 0.9182 - val_Astring_accuracy: 0.8867 - val_Dstring_accuracy: 0.8626 - val_Gstring_accuracy: 0.8570 - val_Bstring_accuracy: 0.8631 - val_Estring_accuracy: 0.9143\n",
      "Epoch 13/30\n",
      "126730/126730 [==============================] - 62s 492us/sample - loss: 2.7332 - estring_loss: 0.3189 - Astring_loss: 0.4376 - Dstring_loss: 0.5339 - Gstring_loss: 0.5436 - Bstring_loss: 0.5403 - Estring_loss: 0.3588 - estring_accuracy: 0.9041 - Astring_accuracy: 0.8675 - Dstring_accuracy: 0.8350 - Gstring_accuracy: 0.8304 - Bstring_accuracy: 0.8309 - Estring_accuracy: 0.8873 - val_loss: 2.3017 - val_estring_loss: 0.2755 - val_Astring_loss: 0.3767 - val_Dstring_loss: 0.4518 - val_Gstring_loss: 0.4685 - val_Bstring_loss: 0.4471 - val_Estring_loss: 0.2773 - val_estring_accuracy: 0.9212 - val_Astring_accuracy: 0.8884 - val_Dstring_accuracy: 0.8641 - val_Gstring_accuracy: 0.8616 - val_Bstring_accuracy: 0.8644 - val_Estring_accuracy: 0.9136\n",
      "Epoch 14/30\n",
      "126730/126730 [==============================] - 62s 492us/sample - loss: 2.6860 - estring_loss: 0.3161 - Astring_loss: 0.4306 - Dstring_loss: 0.5229 - Gstring_loss: 0.5338 - Bstring_loss: 0.5327 - Estring_loss: 0.3498 - estring_accuracy: 0.9059 - Astring_accuracy: 0.8694 - Dstring_accuracy: 0.8367 - Gstring_accuracy: 0.8332 - Bstring_accuracy: 0.8328 - Estring_accuracy: 0.8903 - val_loss: 2.2824 - val_estring_loss: 0.2751 - val_Astring_loss: 0.3753 - val_Dstring_loss: 0.4512 - val_Gstring_loss: 0.4633 - val_Bstring_loss: 0.4396 - val_Estring_loss: 0.2730 - val_estring_accuracy: 0.9211 - val_Astring_accuracy: 0.8888 - val_Dstring_accuracy: 0.8649 - val_Gstring_accuracy: 0.8627 - val_Bstring_accuracy: 0.8661 - val_Estring_accuracy: 0.9154\n",
      "Epoch 15/30\n",
      "126730/126730 [==============================] - 62s 492us/sample - loss: 2.6469 - estring_loss: 0.3072 - Astring_loss: 0.4235 - Dstring_loss: 0.5202 - Gstring_loss: 0.5294 - Bstring_loss: 0.5234 - Estring_loss: 0.3431 - estring_accuracy: 0.9074 - Astring_accuracy: 0.8720 - Dstring_accuracy: 0.8390 - Gstring_accuracy: 0.8353 - Bstring_accuracy: 0.8357 - Estring_accuracy: 0.8929 - val_loss: 2.2539 - val_estring_loss: 0.2683 - val_Astring_loss: 0.3691 - val_Dstring_loss: 0.4470 - val_Gstring_loss: 0.4608 - val_Bstring_loss: 0.4364 - val_Estring_loss: 0.2674 - val_estring_accuracy: 0.9236 - val_Astring_accuracy: 0.8911 - val_Dstring_accuracy: 0.8643 - val_Gstring_accuracy: 0.8632 - val_Bstring_accuracy: 0.8673 - val_Estring_accuracy: 0.9171\n",
      "Epoch 16/30\n",
      "126730/126730 [==============================] - 62s 492us/sample - loss: 2.6090 - estring_loss: 0.3042 - Astring_loss: 0.4183 - Dstring_loss: 0.5131 - Gstring_loss: 0.5206 - Bstring_loss: 0.5146 - Estring_loss: 0.3380 - estring_accuracy: 0.9091 - Astring_accuracy: 0.8730 - Dstring_accuracy: 0.8413 - Gstring_accuracy: 0.8367 - Bstring_accuracy: 0.8382 - Estring_accuracy: 0.8938 - val_loss: 2.2368 - val_estring_loss: 0.2691 - val_Astring_loss: 0.3696 - val_Dstring_loss: 0.4436 - val_Gstring_loss: 0.4531 - val_Bstring_loss: 0.4308 - val_Estring_loss: 0.2659 - val_estring_accuracy: 0.9227 - val_Astring_accuracy: 0.8924 - val_Dstring_accuracy: 0.8667 - val_Gstring_accuracy: 0.8646 - val_Bstring_accuracy: 0.8698 - val_Estring_accuracy: 0.9170\n",
      "Epoch 17/30\n",
      "126730/126730 [==============================] - 62s 492us/sample - loss: 2.5813 - estring_loss: 0.3002 - Astring_loss: 0.4125 - Dstring_loss: 0.5078 - Gstring_loss: 0.5160 - Bstring_loss: 0.5117 - Estring_loss: 0.3336 - estring_accuracy: 0.9097 - Astring_accuracy: 0.8748 - Dstring_accuracy: 0.8422 - Gstring_accuracy: 0.8395 - Bstring_accuracy: 0.8385 - Estring_accuracy: 0.8964 - val_loss: 2.2066 - val_estring_loss: 0.2625 - val_Astring_loss: 0.3650 - val_Dstring_loss: 0.4386 - val_Gstring_loss: 0.4489 - val_Bstring_loss: 0.4267 - val_Estring_loss: 0.2602 - val_estring_accuracy: 0.9255 - val_Astring_accuracy: 0.8923 - val_Dstring_accuracy: 0.8681 - val_Gstring_accuracy: 0.8666 - val_Bstring_accuracy: 0.8708 - val_Estring_accuracy: 0.9188\n",
      "Epoch 18/30\n",
      "126730/126730 [==============================] - 62s 491us/sample - loss: 2.5474 - estring_loss: 0.2945 - Astring_loss: 0.4110 - Dstring_loss: 0.5011 - Gstring_loss: 0.5075 - Bstring_loss: 0.5069 - Estring_loss: 0.3264 - estring_accuracy: 0.9121 - Astring_accuracy: 0.8755 - Dstring_accuracy: 0.8425 - Gstring_accuracy: 0.8417 - Bstring_accuracy: 0.8409 - Estring_accuracy: 0.8973 - val_loss: 2.1860 - val_estring_loss: 0.2593 - val_Astring_loss: 0.3634 - val_Dstring_loss: 0.4351 - val_Gstring_loss: 0.4452 - val_Bstring_loss: 0.4242 - val_Estring_loss: 0.2543 - val_estring_accuracy: 0.9269 - val_Astring_accuracy: 0.8933 - val_Dstring_accuracy: 0.8703 - val_Gstring_accuracy: 0.8676 - val_Bstring_accuracy: 0.8717 - val_Estring_accuracy: 0.9232\n",
      "Epoch 19/30\n",
      "126730/126730 [==============================] - 62s 492us/sample - loss: 2.5152 - estring_loss: 0.2911 - Astring_loss: 0.4031 - Dstring_loss: 0.4974 - Gstring_loss: 0.5032 - Bstring_loss: 0.4977 - Estring_loss: 0.3230 - estring_accuracy: 0.9132 - Astring_accuracy: 0.8774 - Dstring_accuracy: 0.8447 - Gstring_accuracy: 0.8426 - Bstring_accuracy: 0.8436 - Estring_accuracy: 0.8993 - val_loss: 2.1650 - val_estring_loss: 0.2582 - val_Astring_loss: 0.3573 - val_Dstring_loss: 0.4301 - val_Gstring_loss: 0.4407 - val_Bstring_loss: 0.4219 - val_Estring_loss: 0.2522 - val_estring_accuracy: 0.9272 - val_Astring_accuracy: 0.8955 - val_Dstring_accuracy: 0.8709 - val_Gstring_accuracy: 0.8692 - val_Bstring_accuracy: 0.8727 - val_Estring_accuracy: 0.9232\n",
      "Epoch 20/30\n",
      "126730/126730 [==============================] - 62s 491us/sample - loss: 2.4871 - estring_loss: 0.2867 - Astring_loss: 0.4020 - Dstring_loss: 0.4917 - Gstring_loss: 0.4969 - Bstring_loss: 0.4928 - Estring_loss: 0.3170 - estring_accuracy: 0.9140 - Astring_accuracy: 0.8784 - Dstring_accuracy: 0.8467 - Gstring_accuracy: 0.8445 - Bstring_accuracy: 0.8450 - Estring_accuracy: 0.9015 - val_loss: 2.1516 - val_estring_loss: 0.2545 - val_Astring_loss: 0.3571 - val_Dstring_loss: 0.4286 - val_Gstring_loss: 0.4389 - val_Bstring_loss: 0.4191 - val_Estring_loss: 0.2489 - val_estring_accuracy: 0.9272 - val_Astring_accuracy: 0.8945 - val_Dstring_accuracy: 0.8708 - val_Gstring_accuracy: 0.8708 - val_Bstring_accuracy: 0.8724 - val_Estring_accuracy: 0.9234\n",
      "Epoch 21/30\n",
      "126730/126730 [==============================] - 62s 491us/sample - loss: 2.4614 - estring_loss: 0.2846 - Astring_loss: 0.3975 - Dstring_loss: 0.4856 - Gstring_loss: 0.4922 - Bstring_loss: 0.4876 - Estring_loss: 0.3135 - estring_accuracy: 0.9146 - Astring_accuracy: 0.8793 - Dstring_accuracy: 0.8487 - Gstring_accuracy: 0.8461 - Bstring_accuracy: 0.8463 - Estring_accuracy: 0.9016 - val_loss: 2.1559 - val_estring_loss: 0.2601 - val_Astring_loss: 0.3539 - val_Dstring_loss: 0.4241 - val_Gstring_loss: 0.4382 - val_Bstring_loss: 0.4219 - val_Estring_loss: 0.2531 - val_estring_accuracy: 0.9256 - val_Astring_accuracy: 0.8966 - val_Dstring_accuracy: 0.8740 - val_Gstring_accuracy: 0.8699 - val_Bstring_accuracy: 0.8735 - val_Estring_accuracy: 0.9225\n",
      "Epoch 22/30\n",
      "126730/126730 [==============================] - 62s 492us/sample - loss: 2.4407 - estring_loss: 0.2796 - Astring_loss: 0.3923 - Dstring_loss: 0.4835 - Gstring_loss: 0.4876 - Bstring_loss: 0.4872 - Estring_loss: 0.3102 - estring_accuracy: 0.9157 - Astring_accuracy: 0.8805 - Dstring_accuracy: 0.8495 - Gstring_accuracy: 0.8470 - Bstring_accuracy: 0.8468 - Estring_accuracy: 0.9025 - val_loss: 2.1307 - val_estring_loss: 0.2549 - val_Astring_loss: 0.3551 - val_Dstring_loss: 0.4196 - val_Gstring_loss: 0.4348 - val_Bstring_loss: 0.4145 - val_Estring_loss: 0.2474 - val_estring_accuracy: 0.9275 - val_Astring_accuracy: 0.8973 - val_Dstring_accuracy: 0.8757 - val_Gstring_accuracy: 0.8722 - val_Bstring_accuracy: 0.8755 - val_Estring_accuracy: 0.9238\n"
     ]
    },
    {
     "name": "stdout",
     "output_type": "stream",
     "text": [
      "Epoch 23/30\n",
      "126730/126730 [==============================] - 62s 492us/sample - loss: 2.4136 - estring_loss: 0.2789 - Astring_loss: 0.3889 - Dstring_loss: 0.4779 - Gstring_loss: 0.4836 - Bstring_loss: 0.4778 - Estring_loss: 0.3064 - estring_accuracy: 0.9158 - Astring_accuracy: 0.8814 - Dstring_accuracy: 0.8495 - Gstring_accuracy: 0.8480 - Bstring_accuracy: 0.8492 - Estring_accuracy: 0.9031 - val_loss: 2.1059 - val_estring_loss: 0.2505 - val_Astring_loss: 0.3482 - val_Dstring_loss: 0.4179 - val_Gstring_loss: 0.4303 - val_Bstring_loss: 0.4116 - val_Estring_loss: 0.2429 - val_estring_accuracy: 0.9287 - val_Astring_accuracy: 0.8980 - val_Dstring_accuracy: 0.8762 - val_Gstring_accuracy: 0.8708 - val_Bstring_accuracy: 0.8771 - val_Estring_accuracy: 0.9256\n",
      "Epoch 24/30\n",
      "126730/126730 [==============================] - 62s 491us/sample - loss: 2.3934 - estring_loss: 0.2747 - Astring_loss: 0.3863 - Dstring_loss: 0.4732 - Gstring_loss: 0.4813 - Bstring_loss: 0.4751 - Estring_loss: 0.3027 - estring_accuracy: 0.9175 - Astring_accuracy: 0.8823 - Dstring_accuracy: 0.8519 - Gstring_accuracy: 0.8488 - Bstring_accuracy: 0.8493 - Estring_accuracy: 0.9049 - val_loss: 2.0883 - val_estring_loss: 0.2474 - val_Astring_loss: 0.3467 - val_Dstring_loss: 0.4186 - val_Gstring_loss: 0.4251 - val_Bstring_loss: 0.4063 - val_Estring_loss: 0.2397 - val_estring_accuracy: 0.9287 - val_Astring_accuracy: 0.8983 - val_Dstring_accuracy: 0.8749 - val_Gstring_accuracy: 0.8745 - val_Bstring_accuracy: 0.8802 - val_Estring_accuracy: 0.9259\n",
      "Epoch 25/30\n",
      "126730/126730 [==============================] - 62s 491us/sample - loss: 2.3761 - estring_loss: 0.2734 - Astring_loss: 0.3853 - Dstring_loss: 0.4712 - Gstring_loss: 0.4768 - Bstring_loss: 0.4704 - Estring_loss: 0.2993 - estring_accuracy: 0.9177 - Astring_accuracy: 0.8829 - Dstring_accuracy: 0.8520 - Gstring_accuracy: 0.8491 - Bstring_accuracy: 0.8517 - Estring_accuracy: 0.9056 - val_loss: 2.0720 - val_estring_loss: 0.2453 - val_Astring_loss: 0.3453 - val_Dstring_loss: 0.4135 - val_Gstring_loss: 0.4240 - val_Bstring_loss: 0.4027 - val_Estring_loss: 0.2368 - val_estring_accuracy: 0.9293 - val_Astring_accuracy: 0.8978 - val_Dstring_accuracy: 0.8754 - val_Gstring_accuracy: 0.8742 - val_Bstring_accuracy: 0.8790 - val_Estring_accuracy: 0.9290\n",
      "Epoch 26/30\n",
      "126730/126730 [==============================] - 62s 491us/sample - loss: 2.3529 - estring_loss: 0.2719 - Astring_loss: 0.3777 - Dstring_loss: 0.4663 - Gstring_loss: 0.4728 - Bstring_loss: 0.4678 - Estring_loss: 0.2963 - estring_accuracy: 0.9186 - Astring_accuracy: 0.8844 - Dstring_accuracy: 0.8543 - Gstring_accuracy: 0.8514 - Bstring_accuracy: 0.8524 - Estring_accuracy: 0.9069 - val_loss: 2.0695 - val_estring_loss: 0.2477 - val_Astring_loss: 0.3432 - val_Dstring_loss: 0.4127 - val_Gstring_loss: 0.4222 - val_Bstring_loss: 0.4023 - val_Estring_loss: 0.2370 - val_estring_accuracy: 0.9289 - val_Astring_accuracy: 0.8988 - val_Dstring_accuracy: 0.8789 - val_Gstring_accuracy: 0.8757 - val_Bstring_accuracy: 0.8797 - val_Estring_accuracy: 0.9268\n",
      "Epoch 27/30\n",
      "126730/126730 [==============================] - 62s 491us/sample - loss: 2.3351 - estring_loss: 0.2675 - Astring_loss: 0.3783 - Dstring_loss: 0.4627 - Gstring_loss: 0.4686 - Bstring_loss: 0.4646 - Estring_loss: 0.2931 - estring_accuracy: 0.9193 - Astring_accuracy: 0.8840 - Dstring_accuracy: 0.8548 - Gstring_accuracy: 0.8527 - Bstring_accuracy: 0.8532 - Estring_accuracy: 0.9079 - val_loss: 2.0555 - val_estring_loss: 0.2455 - val_Astring_loss: 0.3396 - val_Dstring_loss: 0.4104 - val_Gstring_loss: 0.4185 - val_Bstring_loss: 0.4007 - val_Estring_loss: 0.2365 - val_estring_accuracy: 0.9294 - val_Astring_accuracy: 0.9006 - val_Dstring_accuracy: 0.8774 - val_Gstring_accuracy: 0.8757 - val_Bstring_accuracy: 0.8805 - val_Estring_accuracy: 0.9278\n",
      "Epoch 28/30\n",
      "126730/126730 [==============================] - 62s 491us/sample - loss: 2.3144 - estring_loss: 0.2666 - Astring_loss: 0.3738 - Dstring_loss: 0.4597 - Gstring_loss: 0.4647 - Bstring_loss: 0.4595 - Estring_loss: 0.2900 - estring_accuracy: 0.9192 - Astring_accuracy: 0.8847 - Dstring_accuracy: 0.8556 - Gstring_accuracy: 0.8534 - Bstring_accuracy: 0.8545 - Estring_accuracy: 0.9085 - val_loss: 2.0523 - val_estring_loss: 0.2426 - val_Astring_loss: 0.3395 - val_Dstring_loss: 0.4090 - val_Gstring_loss: 0.4199 - val_Bstring_loss: 0.4030 - val_Estring_loss: 0.2339 - val_estring_accuracy: 0.9303 - val_Astring_accuracy: 0.9002 - val_Dstring_accuracy: 0.8769 - val_Gstring_accuracy: 0.8760 - val_Bstring_accuracy: 0.8802 - val_Estring_accuracy: 0.9299\n",
      "Epoch 29/30\n",
      "126730/126730 [==============================] - 62s 491us/sample - loss: 2.2973 - estring_loss: 0.2628 - Astring_loss: 0.3711 - Dstring_loss: 0.4570 - Gstring_loss: 0.4600 - Bstring_loss: 0.4589 - Estring_loss: 0.2875 - estring_accuracy: 0.9213 - Astring_accuracy: 0.8861 - Dstring_accuracy: 0.8567 - Gstring_accuracy: 0.8539 - Bstring_accuracy: 0.8542 - Estring_accuracy: 0.9096 - val_loss: 2.0539 - val_estring_loss: 0.2435 - val_Astring_loss: 0.3423 - val_Dstring_loss: 0.4074 - val_Gstring_loss: 0.4224 - val_Bstring_loss: 0.4012 - val_Estring_loss: 0.2328 - val_estring_accuracy: 0.9306 - val_Astring_accuracy: 0.9001 - val_Dstring_accuracy: 0.8793 - val_Gstring_accuracy: 0.8754 - val_Bstring_accuracy: 0.8798 - val_Estring_accuracy: 0.9304\n",
      "Epoch 30/30\n",
      "126730/126730 [==============================] - 62s 490us/sample - loss: 2.2844 - estring_loss: 0.2611 - Astring_loss: 0.3694 - Dstring_loss: 0.4551 - Gstring_loss: 0.4581 - Bstring_loss: 0.4555 - Estring_loss: 0.2859 - estring_accuracy: 0.9209 - Astring_accuracy: 0.8863 - Dstring_accuracy: 0.8570 - Gstring_accuracy: 0.8556 - Bstring_accuracy: 0.8560 - Estring_accuracy: 0.9105 - val_loss: 2.0212 - val_estring_loss: 0.2394 - val_Astring_loss: 0.3371 - val_Dstring_loss: 0.4040 - val_Gstring_loss: 0.4133 - val_Bstring_loss: 0.3940 - val_Estring_loss: 0.2291 - val_estring_accuracy: 0.9321 - val_Astring_accuracy: 0.9021 - val_Dstring_accuracy: 0.8788 - val_Gstring_accuracy: 0.8785 - val_Bstring_accuracy: 0.8816 - val_Estring_accuracy: 0.9314\n",
      "WARNING:tensorflow:From /home/dguidi/.virtualenvs/dl1/lib/python3.6/site-packages/tensorflow_core/python/ops/resource_variable_ops.py:1781: calling BaseResourceVariable.__init__ (from tensorflow.python.ops.resource_variable_ops) with constraint is deprecated and will be removed in a future version.\n",
      "Instructions for updating:\n",
      "If using Keras pass *_constraint arguments to layers.\n",
      "INFO:tensorflow:Assets written to: data/model5/assets\n"
     ]
    }
   ],
   "source": [
    "\n",
    "history = model.fit(X_train, [e_train, A_train, D_train, G_train, B_train, E_train],\n",
    "                    batch_size = batch_size, epochs = epochs, verbose = 1,\n",
    "                    validation_data = (X_test, [e_test, A_test, D_test, G_test, B_test, E_test]))\n",
    "\n",
    "model.save('data/model5')\n"
   ]
  }
 ],
 "metadata": {
  "kernelspec": {
   "display_name": "polytrack",
   "language": "python",
   "name": "polytrack"
  },
  "language_info": {
   "codemirror_mode": {
    "name": "ipython",
    "version": 3
   },
   "file_extension": ".py",
   "mimetype": "text/x-python",
   "name": "python",
   "nbconvert_exporter": "python",
   "pygments_lexer": "ipython3",
   "version": "3.7.7"
  }
 },
 "nbformat": 4,
 "nbformat_minor": 2
}
